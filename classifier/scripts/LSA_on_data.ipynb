{
 "metadata": {
  "name": ""
 },
 "nbformat": 3,
 "nbformat_minor": 0,
 "worksheets": [
  {
   "cells": [
    {
     "cell_type": "code",
     "collapsed": false,
     "input": [
      "import numpy as np\n",
      "import itertools\n",
      "import string\n",
      "from scipy import linalg\n",
      "#from Parsing import CoMatrix\n",
      "from pymongo import MongoClient\n",
      "import nltk\n",
      "from nltk.corpus import stopwords"
     ],
     "language": "python",
     "metadata": {},
     "outputs": [],
     "prompt_number": 2
    },
    {
     "cell_type": "code",
     "collapsed": false,
     "input": [
      "# Run this once to download stopwords corpus. \n",
      "#nltk.download()"
     ],
     "language": "python",
     "metadata": {},
     "outputs": []
    },
    {
     "cell_type": "code",
     "collapsed": false,
     "input": [
      "c = MongoClient('aaditpatel.com')\n",
      "db = c.antibullybot\n",
      "db.authenticate('antibullybot', 'antibully')\n",
      "raw_tweets = db['raw_tweets']"
     ],
     "language": "python",
     "metadata": {},
     "outputs": [],
     "prompt_number": 3
    },
    {
     "cell_type": "code",
     "collapsed": false,
     "input": [
      "LIMIT=3\n",
      "all_raw_tweets = raw_tweets.find(limit=LIMIT)"
     ],
     "language": "python",
     "metadata": {},
     "outputs": [],
     "prompt_number": 17
    },
    {
     "cell_type": "code",
     "collapsed": false,
     "input": [
      "#m = CoMatrix()\n",
      "#m.reset()"
     ],
     "language": "python",
     "metadata": {},
     "outputs": [],
     "prompt_number": 4
    },
    {
     "cell_type": "code",
     "collapsed": false,
     "input": [
      "def tr_word(word) :\n",
      "    ''' Returns word in which the only allowed punctuations are apostrophe and #. Removes #. '''\n",
      "    ret_word = ''\n",
      "    for ch in word :\n",
      "        if ch in string.ascii_lowercase or ch == '\\'' :\n",
      "            ret_word += ch\n",
      "        elif ch == '#' :\n",
      "            ;\n",
      "        else : return None\n",
      "    return ret_word"
     ],
     "language": "python",
     "metadata": {},
     "outputs": [],
     "prompt_number": 5
    },
    {
     "cell_type": "code",
     "collapsed": false,
     "input": [
      "def ch_range(word) :\n",
      "    for ch in word :\n",
      "        if ord(ch) >= 128 :\n",
      "            return False\n",
      "    return True"
     ],
     "language": "python",
     "metadata": {},
     "outputs": [],
     "prompt_number": 6
    },
    {
     "cell_type": "code",
     "collapsed": false,
     "input": [
      "st_words = set(stopwords.words('english'))\n",
      "st_words.add('rt')\n",
      "for rec in all_raw_tweets :\n",
      "    tweet = rec['text']\n",
      "    tweet_tokens = nltk.regexp_tokenize(tweet, r'\\S+')\n",
      "    #print tweet_tokens\n",
      "    tweet_tokens= set([str(string.lower(tkn)) for tkn in tweet_tokens if ch_range(tkn)])\n",
      "    tweet_tokens = [tr_word(word) for word in tweet_tokens if tr_word(word) is not None and tr_word(word) not in st_words]\n",
      "    #m.add(tweet_tokens)\n",
      "    print tweet\n",
      "    print tweet_tokens"
     ],
     "language": "python",
     "metadata": {},
     "outputs": [
      {
       "output_type": "stream",
       "stream": "stdout",
       "text": [
        "RT @LlFEHACKER: If you think it's \"gay\" to do nice things for a girl, you're probably too immature for a relationship anyways.\n",
        "['relationship', \"it's\", \"you're\", 'things', 'immature', 'probably', 'nice', 'think']\n",
        "RT @_Sexy_Teens_: RT or your gay http://t.co/PHKJjUJp34\n",
        "['gay']\n",
        "RT @Luke5SOS: when the girl you like thinks your gay\n",
        "['thinks', 'like', 'gay', 'girl']\n"
       ]
      }
     ],
     "prompt_number": 18
    },
    {
     "cell_type": "code",
     "collapsed": false,
     "input": [
      "m.comat.shape"
     ],
     "language": "python",
     "metadata": {},
     "outputs": [
      {
       "metadata": {},
       "output_type": "pyout",
       "prompt_number": 52,
       "text": [
        "(132, 132)"
       ]
      }
     ],
     "prompt_number": 52
    },
    {
     "cell_type": "code",
     "collapsed": false,
     "input": [
      "m.do_svd(50)"
     ],
     "language": "python",
     "metadata": {},
     "outputs": [],
     "prompt_number": 55
    },
    {
     "cell_type": "code",
     "collapsed": false,
     "input": [],
     "language": "python",
     "metadata": {},
     "outputs": [
      {
       "output_type": "stream",
       "stream": "stdout",
       "text": [
        "showing info http://nltk.github.com/nltk_data/\n"
       ]
      },
      {
       "metadata": {},
       "output_type": "pyout",
       "prompt_number": 8,
       "text": [
        "True"
       ]
      }
     ],
     "prompt_number": 8
    },
    {
     "cell_type": "code",
     "collapsed": false,
     "input": [
      "# -- clustering -- #"
     ],
     "language": "python",
     "metadata": {},
     "outputs": []
    }
   ],
   "metadata": {}
  }
 ]
}