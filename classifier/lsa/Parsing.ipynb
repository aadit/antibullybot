{
 "metadata": {
  "name": ""
 },
 "nbformat": 3,
 "nbformat_minor": 0,
 "worksheets": [
  {
   "cells": [
    {
     "cell_type": "code",
     "collapsed": false,
     "input": [
      "import numpy as np\n",
      "import itertools\n",
      "import string\n",
      "from scipy import linalg"
     ],
     "language": "python",
     "metadata": {},
     "outputs": [],
     "prompt_number": 15
    },
    {
     "cell_type": "code",
     "collapsed": false,
     "input": [
      "class CoMatrix:\n",
      "    # Builds co-occurrence matrix.\n",
      "    words_to_i = {}\n",
      "    comat = np.zeros((0,0))   \n",
      "    u = np.zeros((0,0))\n",
      "    s = np.zeros((0,0))\n",
      "    \n",
      "    def reset(self) :\n",
      "        CoMatrix.words_to_i = {}\n",
      "        CoMatrix.comat = np.zeros((0,0))\n",
      "    \n",
      "    def add(self, word_list) :\n",
      "        \"\"\" Given a word_list, which is a list of words, updates the co-occurrence matrix. \"\"\"\n",
      "        # First, count the number of new words to re-shape the matrix.\n",
      "        new_words = [word for word in word_list if word not in CoMatrix.words_to_i]\n",
      "        new_words_count = len(new_words)\n",
      "        \n",
      "        \n",
      "        # Re-shape existing co-occurrence matrix to accommodate new words.\n",
      "        if CoMatrix.comat.shape[0] is 0 :\n",
      "            CoMatrix.comat = np.zeros((new_words_count, new_words_count))\n",
      "        else:\n",
      "            cols = np.zeros((CoMatrix.comat.shape[0], new_words_count))\n",
      "            rows = np.zeros((new_words_count, CoMatrix.comat.shape[1] + new_words_count))\n",
      "            CoMatrix.comat = np.hstack((CoMatrix.comat, cols))\n",
      "            CoMatrix.comat = np.vstack((CoMatrix.comat, rows))\n",
      "        \n",
      "            \n",
      "        # Add new words to the map.\n",
      "        ind = len(CoMatrix.words_to_i)\n",
      "        for word in new_words :\n",
      "            CoMatrix.words_to_i[word] = ind\n",
      "            ind += 1\n",
      "            \n",
      "        # Update the matrix.\n",
      "        word_pairs = itertools.permutations(word_list, 2)\n",
      "        for i,j in word_pairs :\n",
      "            CoMatrix.comat[CoMatrix.words_to_i[i], CoMatrix.words_to_i[j]] += 1\n",
      "            \n",
      "        #print CoMatrix.comat\n",
      "        \n",
      "    def do_svd(self, k) :\n",
      "        \"\"\" Does svd and stores the u and s truncated matrices. k is the number of principal dimensions.\"\"\"\n",
      "        CoMatrix.u,CoMatrix.s,v = linalg.svd(CoMatrix.comat)\n",
      "        CoMatrix.s = np.diag(CoMatrix.s)\n",
      "        CoMatrix.u = CoMatrix.u[:, 0:k]\n",
      "        CoMatrix.s = CoMatrix.s[0:k, 0:k]\n",
      "            \n",
      "    def projection(self, word) :\n",
      "        \"\"\" For a particular word, simply computes the projection by using the word_th row of u and \\\n",
      "        multiplying with s. \"\"\"\n",
      "        if word not in CoMatrix.words_to_i:\n",
      "            print np.zeros((0,0))\n",
      "        else :\n",
      "            return np.dot(CoMatrix.u[CoMatrix.words_to_i[word], :], CoMatrix.s)\n",
      "            \n",
      "    def context_vector(self, word_list) :\n",
      "        \"\"\" Given a word_list, computes the corresponding context vector by summing over all the words. \"\"\"\n",
      "        c_vector = np.zeros((1,k))\n",
      "        for word in word_list :\n",
      "            pr = projection(word)\n",
      "            if pr.shape[0] == 0 :\n",
      "                print \"Error: word not seen before\";\n",
      "            else :\n",
      "                c_vector = np.add(c_vector, pr)\n",
      "        return c_vector\n",
      "        \n",
      "        "
     ],
     "language": "python",
     "metadata": {},
     "outputs": [],
     "prompt_number": 32
    },
    {
     "cell_type": "code",
     "collapsed": false,
     "input": [
      "def comp_cos(a,b) :\n",
      "    return np.dot(a,b) / ( np.linalg.norm(a) * np.linalg.norm(b))"
     ],
     "language": "python",
     "metadata": {},
     "outputs": [],
     "prompt_number": 39
    },
    {
     "cell_type": "code",
     "collapsed": false,
     "input": [
      "\"\"\" Testing \"\"\"\n",
      "\"\"\" Check simpel co-occurrence. \"\"\"\n",
      "word_file = \"/usr/share/dict/british-english\"\n",
      "WORDS = open(word_file).read().splitlines()"
     ],
     "language": "python",
     "metadata": {},
     "outputs": [],
     "prompt_number": 25
    },
    {
     "cell_type": "code",
     "collapsed": false,
     "input": [
      "no_words = len(WORDS)"
     ],
     "language": "python",
     "metadata": {},
     "outputs": [],
     "prompt_number": 26
    },
    {
     "cell_type": "code",
     "collapsed": false,
     "input": [
      "import random\n"
     ],
     "language": "python",
     "metadata": {},
     "outputs": [],
     "prompt_number": 27
    },
    {
     "cell_type": "code",
     "collapsed": false,
     "input": [
      "m = CoMatrix()\n",
      "m.reset()\n",
      "for i in range(100) :\n",
      "    wl1 = [random.choice(WORDS) for i in range(10)]\n",
      "    wl1.append('cookies')\n",
      "    wl1.append('biscuits')\n",
      "    wl2 = [random.choice(WORDS) for i in range(10)]\n",
      "    wl2.append('biscuits')\n",
      "    wl2.append('pastries')\n",
      "    m.add(wl1)\n",
      "    m.add(wl2)"
     ],
     "language": "python",
     "metadata": {},
     "outputs": [],
     "prompt_number": 59
    },
    {
     "cell_type": "code",
     "collapsed": false,
     "input": [
      "m.comat.shape"
     ],
     "language": "python",
     "metadata": {},
     "outputs": [
      {
       "metadata": {},
       "output_type": "pyout",
       "prompt_number": 60,
       "text": [
        "(1984, 1984)"
       ]
      }
     ],
     "prompt_number": 60
    },
    {
     "cell_type": "code",
     "collapsed": false,
     "input": [
      "m.do_svd(10)"
     ],
     "language": "python",
     "metadata": {},
     "outputs": [],
     "prompt_number": 61
    },
    {
     "cell_type": "code",
     "collapsed": false,
     "input": [
      "vc = m.projection('cookies')"
     ],
     "language": "python",
     "metadata": {},
     "outputs": [],
     "prompt_number": 62
    },
    {
     "cell_type": "code",
     "collapsed": false,
     "input": [
      "vb = m.projection('biscuits')\n",
      "vp = m.projection('pastries')"
     ],
     "language": "python",
     "metadata": {},
     "outputs": [],
     "prompt_number": 63
    },
    {
     "cell_type": "code",
     "collapsed": false,
     "input": [
      "comp_cos(vc,vp)"
     ],
     "language": "python",
     "metadata": {},
     "outputs": [
      {
       "metadata": {},
       "output_type": "pyout",
       "prompt_number": 64,
       "text": [
        "0.90922457419778446"
       ]
      }
     ],
     "prompt_number": 64
    },
    {
     "cell_type": "code",
     "collapsed": false,
     "input": [
      "comp_cos(vc,vb)"
     ],
     "language": "python",
     "metadata": {},
     "outputs": [
      {
       "metadata": {},
       "output_type": "pyout",
       "prompt_number": 65,
       "text": [
        "0.065381848937337159"
       ]
      }
     ],
     "prompt_number": 65
    },
    {
     "cell_type": "code",
     "collapsed": false,
     "input": [
      "comp_cos(vb,vp)"
     ],
     "language": "python",
     "metadata": {},
     "outputs": [
      {
       "metadata": {},
       "output_type": "pyout",
       "prompt_number": 66,
       "text": [
        "0.065012641032814497"
       ]
      }
     ],
     "prompt_number": 66
    },
    {
     "cell_type": "code",
     "collapsed": false,
     "input": [
      "vsnb = m.projection('advice')"
     ],
     "language": "python",
     "metadata": {},
     "outputs": [],
     "prompt_number": 70
    },
    {
     "cell_type": "code",
     "collapsed": false,
     "input": [
      "comp_cos(vsnb, vc)"
     ],
     "language": "python",
     "metadata": {},
     "outputs": [
      {
       "metadata": {},
       "output_type": "pyout",
       "prompt_number": 72,
       "text": [
        "0.45907050696850155"
       ]
      }
     ],
     "prompt_number": 72
    },
    {
     "cell_type": "code",
     "collapsed": false,
     "input": [
      "m.comat[m.words_to_i['cookies'], m.words_to_i['advice']]"
     ],
     "language": "python",
     "metadata": {},
     "outputs": [
      {
       "metadata": {},
       "output_type": "pyout",
       "prompt_number": 73,
       "text": [
        "0.0"
       ]
      }
     ],
     "prompt_number": 73
    },
    {
     "cell_type": "code",
     "collapsed": false,
     "input": [
      "vsnb"
     ],
     "language": "python",
     "metadata": {},
     "outputs": [
      {
       "metadata": {},
       "output_type": "pyout",
       "prompt_number": 74,
       "text": [
        "array([ -1.21316217e+00,   2.07374616e-01,   5.94329829e-01,\n",
        "         4.12360688e-01,  -1.54751519e+00,  -5.92074994e-16,\n",
        "        -9.12010987e-16,   7.79508356e-16,  -5.06306718e-16,\n",
        "         1.26410878e-15])"
       ]
      }
     ],
     "prompt_number": 74
    },
    {
     "cell_type": "code",
     "collapsed": false,
     "input": [
      "vc"
     ],
     "language": "python",
     "metadata": {},
     "outputs": [
      {
       "metadata": {},
       "output_type": "pyout",
       "prompt_number": 75,
       "text": [
        "array([ -7.49377658e+01,   6.99499422e+01,  -1.68635331e+01,\n",
        "         1.46641463e+01,   2.13250044e-02,   1.15329347e-14,\n",
        "         1.15955089e-14,  -5.90602641e-15,   5.06354429e-17,\n",
        "        -7.88952907e-15])"
       ]
      }
     ],
     "prompt_number": 75
    },
    {
     "cell_type": "code",
     "collapsed": false,
     "input": [],
     "language": "python",
     "metadata": {},
     "outputs": []
    }
   ],
   "metadata": {}
  }
 ]
}