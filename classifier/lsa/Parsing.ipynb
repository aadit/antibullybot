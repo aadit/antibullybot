{
 "metadata": {
  "name": ""
 },
 "nbformat": 3,
 "nbformat_minor": 0,
 "worksheets": [
  {
   "cells": [
    {
     "cell_type": "code",
     "collapsed": false,
     "input": [
      "import numpy as np\n",
      "import itertools\n",
      "import string\n",
      "from scipy import linalg"
     ],
     "language": "python",
     "metadata": {},
     "outputs": [],
     "prompt_number": 1
    },
    {
     "cell_type": "code",
     "collapsed": false,
     "input": [
      "class CoMatrix:\n",
      "    # Builds co-occurrence matrix.\n",
      "    words_to_i = {}\n",
      "    comat = np.zeros((0,0))   \n",
      "    u = np.zeros((0,0))\n",
      "    s = np.zeros((0,0))\n",
      "    \n",
      "    def reset(self) :\n",
      "        CoMatrix.words_to_i = {}\n",
      "        CoMatrix.comat = np.zeros((0,0))\n",
      "    \n",
      "    def add(self, word_list) :\n",
      "        \"\"\" Given a word_list, which is a list of words, updates the co-occurrence matrix. \"\"\"\n",
      "        # First, count the number of new words to re-shape the matrix.\n",
      "        new_words = [word for word in word_list if word not in CoMatrix.words_to_i]\n",
      "        new_words_count = len(new_words)\n",
      "        \n",
      "        \n",
      "        # Re-shape existing co-occurrence matrix to accommodate new words.\n",
      "        if CoMatrix.comat.shape[0] is 0 :\n",
      "            CoMatrix.comat = np.zeros((new_words_count, new_words_count))\n",
      "        else:\n",
      "            cols = np.zeros((CoMatrix.comat.shape[0], new_words_count))\n",
      "            rows = np.zeros((new_words_count, CoMatrix.comat.shape[1] + new_words_count))\n",
      "            CoMatrix.comat = np.hstack((CoMatrix.comat, cols))\n",
      "            CoMatrix.comat = np.vstack((CoMatrix.comat, rows))\n",
      "        \n",
      "            \n",
      "        # Add new words to the map.\n",
      "        ind = len(CoMatrix.words_to_i)\n",
      "        for word in new_words :\n",
      "            CoMatrix.words_to_i[word] = ind\n",
      "            ind += 1\n",
      "            \n",
      "        # Update the matrix.\n",
      "        word_pairs = itertools.permutations(word_list, 2)\n",
      "        for i,j in word_pairs :\n",
      "            CoMatrix.comat[CoMatrix.words_to_i[i], CoMatrix.words_to_i[j]] += 1\n",
      "            \n",
      "        #print CoMatrix.comat\n",
      "        \n",
      "    def do_svd(self, k) :\n",
      "        \"\"\" Does svd and stores the u and s truncated matrices. k is the number of principal dimensions.\"\"\"\n",
      "        CoMatrix.u,CoMatrix.s,v = linalg.svd(CoMatrix.comat)\n",
      "        CoMatrix.s = np.diag(CoMatrix.s)\n",
      "        CoMatrix.u = CoMatrix.u[:, 0:k]\n",
      "        CoMatrix.s = CoMatrix.s[0:k, 0:k]\n",
      "            \n",
      "    def projection(self, word) :\n",
      "        \"\"\" For a particular word, simply computes the projection by using the word_th row of u and \\\n",
      "        multiplying with s. \"\"\"\n",
      "        if word not in CoMatrix.words_to_i:\n",
      "            print np.zeros((0,0))\n",
      "        else :\n",
      "            return np.dot(CoMatrix.u[CoMatrix.words_to_i[word], :], CoMatrix.s)\n",
      "            \n",
      "    def context_vector(self, word_list) :\n",
      "        \"\"\" Given a word_list, computes the corresponding context vector by summing over all the words. \"\"\"\n",
      "        c_vector = np.zeros((1,k))\n",
      "        for word in word_list :\n",
      "            pr = projection(word)\n",
      "            if pr.shape[0] == 0 :\n",
      "                print \"Error: word not seen before\";\n",
      "            else :\n",
      "                c_vector = np.add(c_vector, pr)\n",
      "        return c_vector\n",
      "        \n",
      "        "
     ],
     "language": "python",
     "metadata": {},
     "outputs": [],
     "prompt_number": 2
    },
    {
     "cell_type": "code",
     "collapsed": false,
     "input": [
      "def comp_cos(a,b) :\n",
      "    return np.dot(a,b) / ( np.linalg.norm(a) * np.linalg.norm(b))"
     ],
     "language": "python",
     "metadata": {},
     "outputs": [],
     "prompt_number": 3
    },
    {
     "cell_type": "code",
     "collapsed": false,
     "input": [
      "\"\"\" Testing \"\"\"\n",
      "\"\"\" Check simpel co-occurrence. \"\"\"\n",
      "word_file = \"/usr/share/dict/british-english\"\n",
      "WORDS = open(word_file).read().splitlines()"
     ],
     "language": "python",
     "metadata": {},
     "outputs": [],
     "prompt_number": 4
    },
    {
     "cell_type": "code",
     "collapsed": false,
     "input": [
      "no_words = len(WORDS)"
     ],
     "language": "python",
     "metadata": {},
     "outputs": [],
     "prompt_number": 5
    },
    {
     "cell_type": "code",
     "collapsed": false,
     "input": [
      "import random\n"
     ],
     "language": "python",
     "metadata": {},
     "outputs": [],
     "prompt_number": 6
    },
    {
     "cell_type": "code",
     "collapsed": false,
     "input": [
      "m = CoMatrix()\n",
      "m.reset()\n",
      "for i in range(100) :\n",
      "    wl1 = [random.choice(WORDS) for i in range(10)]\n",
      "    wl1.append('cookies')\n",
      "    wl1.append('biscuits')\n",
      "    #wl2 = [random.choice(WORDS) for i in range(10)]\n",
      "    #wl2.append('biscuits')\n",
      "    #wl2.append('pastries')\n",
      "    m.add(wl1)\n",
      "    #m.add(wl2)"
     ],
     "language": "python",
     "metadata": {},
     "outputs": [],
     "prompt_number": 73
    },
    {
     "cell_type": "code",
     "collapsed": false,
     "input": [
      "m.comat.shape"
     ],
     "language": "python",
     "metadata": {},
     "outputs": [
      {
       "metadata": {},
       "output_type": "pyout",
       "prompt_number": 36,
       "text": [
        "(994, 994)"
       ]
      }
     ],
     "prompt_number": 36
    },
    {
     "cell_type": "code",
     "collapsed": false,
     "input": [
      "m.do_svd(100)"
     ],
     "language": "python",
     "metadata": {},
     "outputs": [],
     "prompt_number": 74
    },
    {
     "cell_type": "code",
     "collapsed": false,
     "input": [
      "vc = m.projection('cookies')"
     ],
     "language": "python",
     "metadata": {},
     "outputs": [],
     "prompt_number": 75
    },
    {
     "cell_type": "code",
     "collapsed": false,
     "input": [
      "vb = m.projection('biscuits')\n",
      "#vp = m.projection('pastries')"
     ],
     "language": "python",
     "metadata": {},
     "outputs": [],
     "prompt_number": 76
    },
    {
     "cell_type": "code",
     "collapsed": false,
     "input": [
      "#comp_cos(vc,vp)"
     ],
     "language": "python",
     "metadata": {},
     "outputs": [],
     "prompt_number": 77
    },
    {
     "cell_type": "code",
     "collapsed": false,
     "input": [
      "comp_cos(vc,vb)"
     ],
     "language": "python",
     "metadata": {},
     "outputs": [
      {
       "metadata": {},
       "output_type": "pyout",
       "prompt_number": 78,
       "text": [
        "0.091569763599558388"
       ]
      }
     ],
     "prompt_number": 78
    },
    {
     "cell_type": "code",
     "collapsed": false,
     "input": [
      "uu,ss,vv = linalg.svd(m.comat)"
     ],
     "language": "python",
     "metadata": {},
     "outputs": [],
     "prompt_number": 69
    },
    {
     "cell_type": "code",
     "collapsed": false,
     "input": [
      "ssd = np.diag(ss)"
     ],
     "language": "python",
     "metadata": {},
     "outputs": [],
     "prompt_number": 70
    },
    {
     "cell_type": "code",
     "collapsed": false,
     "input": [
      "ssd.shape\n"
     ],
     "language": "python",
     "metadata": {},
     "outputs": [
      {
       "metadata": {},
       "output_type": "pyout",
       "prompt_number": 71,
       "text": [
        "(994, 994)"
       ]
      }
     ],
     "prompt_number": 71
    },
    {
     "cell_type": "code",
     "collapsed": false,
     "input": [
      "ssd"
     ],
     "language": "python",
     "metadata": {},
     "outputs": [
      {
       "metadata": {},
       "output_type": "pyout",
       "prompt_number": 72,
       "text": [
        "array([[ 118.56951126,    0.        ,    0.        , ...,    0.        ,\n",
        "           0.        ,    0.        ],\n",
        "       [   0.        ,  100.        ,    0.        , ...,    0.        ,\n",
        "           0.        ,    0.        ],\n",
        "       [   0.        ,    0.        ,    9.83095189, ...,    0.        ,\n",
        "           0.        ,    0.        ],\n",
        "       ..., \n",
        "       [   0.        ,    0.        ,    0.        , ...,    1.        ,\n",
        "           0.        ,    0.        ],\n",
        "       [   0.        ,    0.        ,    0.        , ...,    0.        ,\n",
        "           1.        ,    0.        ],\n",
        "       [   0.        ,    0.        ,    0.        , ...,    0.        ,\n",
        "           0.        ,    1.        ]])"
       ]
      }
     ],
     "prompt_number": 72
    },
    {
     "cell_type": "code",
     "collapsed": false,
     "input": [],
     "language": "python",
     "metadata": {},
     "outputs": []
    }
   ],
   "metadata": {}
  }
 ]
}