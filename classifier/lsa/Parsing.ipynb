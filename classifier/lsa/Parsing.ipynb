{
 "metadata": {
  "name": ""
 },
 "nbformat": 3,
 "nbformat_minor": 0,
 "worksheets": [
  {
   "cells": [
    {
     "cell_type": "code",
     "collapsed": false,
     "input": [
      "import numpy as np\n",
      "import itertools\n",
      "import string"
     ],
     "language": "python",
     "metadata": {},
     "outputs": [],
     "prompt_number": 116
    },
    {
     "cell_type": "code",
     "collapsed": false,
     "input": [
      "class CoMatrix:\n",
      "    # Builds co-occurrence matrix.\n",
      "    words_to_i = {}\n",
      "    comat = np.zeros((0,0))   \n",
      "    \n",
      "    def reset(self) :\n",
      "        CoMatrix.words_to_i = {}\n",
      "        CoMatrix.comat = np.zeros((0,0))\n",
      "    \n",
      "    def add(self, word_list) :\n",
      "        # First, count the number of new words to re-shape the matrix.\n",
      "        new_words = [word for word in word_list if word not in CoMatrix.words_to_i]\n",
      "        new_words_count = len(new_words)\n",
      "        \n",
      "        \n",
      "        # Re-shape existing co-occurrence matrix to accommodate new words.\n",
      "        if CoMatrix.comat.shape[0] is 0 :\n",
      "            CoMatrix.comat = np.zeros((new_words_count, new_words_count))\n",
      "        else:\n",
      "            cols = np.zeros((CoMatrix.comat.shape[0], new_words_count))\n",
      "            rows = np.zeros((new_words_count, CoMatrix.comat.shape[1] + new_words_count))\n",
      "            CoMatrix.comat = np.hstack((CoMatrix.comat, cols))\n",
      "            CoMatrix.comat = np.vstack((CoMatrix.comat, rows))\n",
      "        \n",
      "            \n",
      "        # Add new words to the map.\n",
      "        ind = len(CoMatrix.words_to_i)\n",
      "        for word in new_words :\n",
      "            CoMatrix.words_to_i[word] = ind\n",
      "            ind += 1\n",
      "            \n",
      "        # Update the matrix.\n",
      "        word_pairs = itertools.permutations(word_list, 2)\n",
      "        for i,j in word_pairs :\n",
      "            CoMatrix.comat[CoMatrix.words_to_i[i], CoMatrix.words_to_i[j]] += 1\n",
      "            \n",
      "        #print CoMatrix.comat\n",
      "        \n",
      "        "
     ],
     "language": "python",
     "metadata": {},
     "outputs": [],
     "prompt_number": 120
    },
    {
     "cell_type": "code",
     "collapsed": false,
     "input": [
      "# Debugging cell.\n",
      "\n",
      "text = \"Thousands of good, calm, bourgeois faces thronged the windows, the doors, the dormer windows, the roofs, \\\n",
      "gazing at the palace, gazing at the populace, and asking nothing more; for many Parisians content themselves with the \\\n",
      "spectacle of the spectators, and a wall behind which something is going on becomes at once, for us, a very curious \\\n",
      "thing indeed\"\n",
      "text = \"apple banana mango grape\"\n",
      "text2 = ['apple', 'banana', 'melon']\n",
      "exclude = set(string.punctuation)\n",
      "p_text = ''.join(ch for ch in text if ch not in exclude).split()\n",
      "m = CoMatrix()\n",
      "m.reset()\n",
      "m.add(p_text)\n",
      "m.add(text2)"
     ],
     "language": "python",
     "metadata": {},
     "outputs": [],
     "prompt_number": 121
    },
    {
     "cell_type": "code",
     "collapsed": false,
     "input": [
      "# Do SVD.\n",
      "u,s,v = np.linalg.svd(m.comat)"
     ],
     "language": "python",
     "metadata": {},
     "outputs": [],
     "prompt_number": 122
    },
    {
     "cell_type": "code",
     "collapsed": false,
     "input": [
      "def project(word_vector, u,s,v,k) :\n",
      "    # Figure out how this works.\n",
      "\n",
      "def context_vector(mat, word_to_i, tweet, u, s,v, k) :\n",
      "    \"\"\" Computes the context_vector of a tweet. *mat* is the co-occurrence matrix\\\n",
      "    *word_to_i* is the word-to-index hash map, *tweet* is the list of words in the \\\n",
      "    current tweet, *u,s,v* is the SVD of *mat.comat* and, *k* is the number of \\\n",
      "    principal singular vectors. \"\"\"\n",
      "    \n",
      "    # check dimensions\n",
      "    c_vector = np.zeros((1,k))     \n",
      "    for word in tweet :\n",
      "        c_vector = np.add(c_vector, project(mat[word_to_i[word], :], u,s,v,k))     \n",
      "        \n",
      "    return c_vector"
     ],
     "language": "python",
     "metadata": {},
     "outputs": [],
     "prompt_number": 129
    }
   ],
   "metadata": {}
  }
 ]
}