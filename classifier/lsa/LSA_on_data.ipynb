{
 "metadata": {
  "name": ""
 },
 "nbformat": 3,
 "nbformat_minor": 0,
 "worksheets": [
  {
   "cells": [
    {
     "cell_type": "code",
     "collapsed": false,
     "input": [
      "import numpy as np\n",
      "import itertools\n",
      "import string\n",
      "from scipy import linalg\n",
      "from Parsing import CoMatrix\n",
      "from pymongo import MongoClient\n",
      "import nltk"
     ],
     "language": "python",
     "metadata": {},
     "outputs": [],
     "prompt_number": 1
    },
    {
     "cell_type": "code",
     "collapsed": false,
     "input": [
      "c = MongoClient('aaditpatel.com')\n",
      "db = c.antibullybot\n",
      "db.authenticate('antibullybot', 'antibully')\n",
      "raw_tweets = db['raw_tweets']"
     ],
     "language": "python",
     "metadata": {},
     "outputs": [],
     "prompt_number": 2
    },
    {
     "cell_type": "code",
     "collapsed": false,
     "input": [
      "LIMIT=30\n",
      "all_raw_tweets = raw_tweets.find(limit=LIMIT)"
     ],
     "language": "python",
     "metadata": {},
     "outputs": [],
     "prompt_number": 50
    },
    {
     "cell_type": "code",
     "collapsed": false,
     "input": [
      "m = CoMatrix()\n",
      "m.reset()"
     ],
     "language": "python",
     "metadata": {},
     "outputs": [],
     "prompt_number": 41
    },
    {
     "cell_type": "code",
     "collapsed": false,
     "input": [
      "def tr_word(word) :\n",
      "    ''' Returns word in which the only allowed punctuations are apostrophe and #. Removes #. '''\n",
      "    ret_word = ''\n",
      "    for ch in word :\n",
      "        if ch in string.ascii_lowercase or ch == '\\'' :\n",
      "            ret_word += ch\n",
      "        elif ch == '#' :\n",
      "            ;\n",
      "        else : return None\n",
      "    return ret_word        "
     ],
     "language": "python",
     "metadata": {},
     "outputs": [],
     "prompt_number": 35
    },
    {
     "cell_type": "code",
     "collapsed": false,
     "input": [
      "def ch_range(word) :\n",
      "    for ch in word :\n",
      "        if ord(ch) >= 128 :\n",
      "            return False\n",
      "    return True"
     ],
     "language": "python",
     "metadata": {},
     "outputs": [],
     "prompt_number": 48
    },
    {
     "cell_type": "code",
     "collapsed": false,
     "input": [
      "ch_range('hello')"
     ],
     "language": "python",
     "metadata": {},
     "outputs": [
      {
       "metadata": {},
       "output_type": "pyout",
       "prompt_number": 49,
       "text": [
        "True"
       ]
      }
     ],
     "prompt_number": 49
    },
    {
     "cell_type": "code",
     "collapsed": false,
     "input": [
      "for rec in all_raw_tweets :\n",
      "    tweet = rec['text']\n",
      "    tweet_tokens = nltk.regexp_tokenize(tweet, r'\\S+')\n",
      "    #print tweet_tokens\n",
      "    tweet_tokens= set([str(string.lower(tkn)) for tkn in tweet_tokens if ch_range(tkn)])\n",
      "    tweet_tokens = [tr_word(word) for word in tweet_tokens if tr_word(word) is not None]\n",
      "    m.add(tweet_tokens)\n",
      "    #print tweet\n",
      "    #print tweet_tokens"
     ],
     "language": "python",
     "metadata": {},
     "outputs": [],
     "prompt_number": 51
    },
    {
     "cell_type": "code",
     "collapsed": false,
     "input": [
      "m.comat.shape"
     ],
     "language": "python",
     "metadata": {},
     "outputs": [
      {
       "metadata": {},
       "output_type": "pyout",
       "prompt_number": 52,
       "text": [
        "(132, 132)"
       ]
      }
     ],
     "prompt_number": 52
    },
    {
     "cell_type": "code",
     "collapsed": false,
     "input": [
      "m.do_svd(50)"
     ],
     "language": "python",
     "metadata": {},
     "outputs": [],
     "prompt_number": 55
    },
    {
     "cell_type": "code",
     "collapsed": false,
     "input": [
      "# -- clustering -- #"
     ],
     "language": "python",
     "metadata": {},
     "outputs": []
    }
   ],
   "metadata": {}
  }
 ]
}